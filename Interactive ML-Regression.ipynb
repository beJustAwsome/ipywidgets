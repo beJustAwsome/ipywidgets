{
 "cells": [
  {
   "cell_type": "markdown",
   "metadata": {},
   "source": [
    "# Interactive Machine Learning Demo - Linear Regression"
   ]
  },
  {
   "cell_type": "code",
   "execution_count": 1,
   "metadata": {},
   "outputs": [],
   "source": [
    "from ipywidgets import interact, interactive, IntSlider, Layout, interact_manual\n",
    "import ipywidgets as widgets\n",
    "from IPython.display import display\n",
    "\n",
    "import numpy as np\n",
    "import matplotlib.pyplot as plt\n",
    "#%matplotlib inline\n",
    "\n",
    "import pandas as pd"
   ]
  },
  {
   "cell_type": "markdown",
   "metadata": {},
   "source": [
    "## Linear Regression and Regularization"
   ]
  },
  {
   "cell_type": "markdown",
   "metadata": {},
   "source": [
    "### Variables"
   ]
  },
  {
   "cell_type": "code",
   "execution_count": 2,
   "metadata": {},
   "outputs": [],
   "source": [
    "N_samples = 25\n",
    "x_min = -5\n",
    "x_max = 5\n",
    "x1= np.linspace(x_min,x_max,N_samples*5)\n",
    "x= np.random.choice(x1,size=N_samples)\n",
    "noise_std=1\n",
    "noise_mean=0\n",
    "noise_magnitude = 2"
   ]
  },
  {
   "cell_type": "markdown",
   "metadata": {},
   "source": [
    "### Function definitions (ideal fitting function and actual data generating function with noise)"
   ]
  },
  {
   "cell_type": "code",
   "execution_count": 3,
   "metadata": {},
   "outputs": [],
   "source": [
    "def func_gen(N_samples,x_min,x_max,noise_magnitude,noise_sd,noise_mean):\n",
    "    x1= np.linspace(x_min,x_max,N_samples*5)\n",
    "    x= np.random.choice(x1,size=N_samples)\n",
    "    y=2*x-0.6*x**2+0.2*x**3+18*np.sin(x)\n",
    "    y1=2*x1-0.6*x1**2+0.2*x1**3+18*np.sin(x1)\n",
    "    y= y+noise_magnitude*np.random.normal(loc=noise_mean,scale=noise_sd,size=N_samples)\n",
    "    plt.figure(figsize=(8,5))\n",
    "    plt.plot(x1,y1,c='k',lw=2)\n",
    "    plt.scatter(x,y,edgecolors='k',c='yellow',s=60)\n",
    "    plt.grid(True)\n",
    "    plt.show()\n",
    "    return (x,y,x1,y1)"
   ]
  },
  {
   "cell_type": "markdown",
   "metadata": {},
   "source": [
    "### Call the 'interactive' widget with the data generating function, which also plots the data real-time"
   ]
  },
  {
   "cell_type": "code",
   "execution_count": 4,
   "metadata": {
    "scrolled": false
   },
   "outputs": [
    {
     "data": {
      "application/vnd.jupyter.widget-view+json": {
       "model_id": "cf4fede5bdbf454e913a63cbecad6719",
       "version_major": 2,
       "version_minor": 0
      },
      "text/html": [
       "<p>Failed to display Jupyter Widget of type <code>interactive</code>.</p>\n",
       "<p>\n",
       "  If you're reading this message in the Jupyter Notebook or JupyterLab Notebook, it may mean\n",
       "  that the widgets JavaScript is still loading. If this message persists, it\n",
       "  likely means that the widgets JavaScript library is either not installed or\n",
       "  not enabled. See the <a href=\"https://ipywidgets.readthedocs.io/en/stable/user_install.html\">Jupyter\n",
       "  Widgets Documentation</a> for setup instructions.\n",
       "</p>\n",
       "<p>\n",
       "  If you're reading this message in another frontend (for example, a static\n",
       "  rendering on GitHub or <a href=\"https://nbviewer.jupyter.org/\">NBViewer</a>),\n",
       "  it may mean that your frontend doesn't currently support widgets.\n",
       "</p>\n"
      ],
      "text/plain": [
       "interactive(children=(Dropdown(description='N_samples', options={'Low (50 samples)': 50, 'High (200 samples)': 200}, value=50), IntSlider(value=-3, description='x_min', max=0, min=-5), IntSlider(value=2, description='x_max', max=5), IntSlider(value=2, description='noise_magnitude', max=5), FloatSlider(value=0.5, description='noise_sd', max=1.0, min=0.1), FloatSlider(value=0.0, description='noise_mean', max=2.0, min=-2.0, step=0.5), Output()), _dom_classes=('widget-interact',))"
      ]
     },
     "metadata": {},
     "output_type": "display_data"
    }
   ],
   "source": [
    "p=interactive(func_gen,N_samples={'Low (50 samples)':50,'High (200 samples)':200},x_min=(-5,0,1), x_max=(0,5,1),\n",
    "              noise_magnitude=(0,5,1),noise_sd=(0.1,1,0.1),noise_mean=(-2,2,0.5))\n",
    "display(p)"
   ]
  },
  {
   "cell_type": "markdown",
   "metadata": {},
   "source": [
    "### Extract the data"
   ]
  },
  {
   "cell_type": "code",
   "execution_count": 5,
   "metadata": {},
   "outputs": [],
   "source": [
    "x,y,x1,y1 = p.result"
   ]
  },
  {
   "cell_type": "markdown",
   "metadata": {},
   "source": [
    "### Load scikit-learn libraries"
   ]
  },
  {
   "cell_type": "code",
   "execution_count": 6,
   "metadata": {},
   "outputs": [],
   "source": [
    "from sklearn.model_selection import train_test_split\n",
    "from sklearn.preprocessing import PolynomialFeatures\n",
    "from sklearn.linear_model import LassoCV\n",
    "from sklearn.linear_model import RidgeCV\n",
    "from sklearn.linear_model import LinearRegression\n",
    "from sklearn.pipeline import make_pipeline"
   ]
  },
  {
   "cell_type": "markdown",
   "metadata": {},
   "source": [
    "### Machine learning (regression) model encapsulated within a function "
   ]
  },
  {
   "cell_type": "code",
   "execution_count": 7,
   "metadata": {},
   "outputs": [],
   "source": [
    "lasso_eps = 0.01\n",
    "lasso_nalpha=20\n",
    "lasso_iter=3000\n",
    "ridge_alphas = (0.001,0.01,0.1,1)\n",
    "\n",
    "def func_fit(model_type,test_size,degree):\n",
    "    X_train, X_test, y_train, y_test = train_test_split(x,y,test_size=test_size,random_state=55)\n",
    "    \n",
    "    if (model_type=='Linear regression'):\n",
    "        model = make_pipeline(PolynomialFeatures(degree,interaction_only=False), \n",
    "                          LinearRegression(normalize=True))\n",
    "    if (model_type=='LASSO with CV'):    \n",
    "        model = make_pipeline(PolynomialFeatures(degree,interaction_only=False), \n",
    "                              LassoCV(eps=lasso_eps,n_alphas=lasso_nalpha,max_iter=lasso_iter,normalize=True,cv=5))\n",
    "        \n",
    "    if (model_type=='Ridge with CV'):    \n",
    "        model = make_pipeline(PolynomialFeatures(degree,interaction_only=False), \n",
    "                              RidgeCV(alphas=ridge_alphas,normalize=True,cv=5))\n",
    "    \n",
    "    X_train=X_train.reshape(-1,1)\n",
    "    X_test=X_test.reshape(-1,1)\n",
    "    \n",
    "    model.fit(X_train,y_train)\n",
    "    \n",
    "    train_pred = np.array(model.predict(X_train))\n",
    "    train_score = model.score(X_train,y_train)\n",
    "    \n",
    "    test_pred = np.array(model.predict(X_test))\n",
    "    test_score = model.score(X_test,y_test)\n",
    "    \n",
    "    RMSE_test=np.sqrt(np.mean(np.square(test_pred-y_test)))\n",
    "    RMSE_train=np.sqrt(np.mean(np.square(train_pred-y_train)))\n",
    "       \n",
    "    plt.figure(figsize=(14,6))\n",
    "    \n",
    "    plt.subplot(1,2,1)\n",
    "    plt.title(\"Test set performance\\nTest score: %.3f\"%(test_score),fontsize=16)\n",
    "    plt.xlabel(\"X-test\",fontsize=13)\n",
    "    plt.ylabel(\"y-test\",fontsize=13)\n",
    "    plt.scatter(X_test,y_test,edgecolors='k',c='blue',s=60)\n",
    "    plt.scatter(X_test,test_pred,edgecolors='k',c='yellow',s=60)\n",
    "    plt.grid(True)\n",
    "    plt.legend(['Actual test values','Predicted values'])\n",
    "    \n",
    "    plt.subplot(1,2,2)\n",
    "    plt.title(\"Training set performance\\nTraining score: %.3f\"%(train_score),fontsize=16)\n",
    "    plt.xlabel(\"X-train\",fontsize=13)\n",
    "    plt.ylabel(\"y-train\",fontsize=13)\n",
    "    plt.scatter(X_train,y_train,c='blue')\n",
    "    plt.scatter(X_train,train_pred,c='yellow')\n",
    "    plt.grid(True)\n",
    "    plt.legend(['Actual training values','Fitted values'])\n",
    "    \n",
    "    plt.show()\n",
    "       \n",
    "    return (train_score,test_score)    "
   ]
  },
  {
   "cell_type": "markdown",
   "metadata": {},
   "source": [
    "### Run the encapsulated ML function with ipywidget interactive"
   ]
  },
  {
   "cell_type": "code",
   "execution_count": 8,
   "metadata": {},
   "outputs": [
    {
     "data": {
      "application/vnd.jupyter.widget-view+json": {
       "model_id": "d8bc69065d9540c49157cd9a3cdb8ff4",
       "version_major": 2,
       "version_minor": 0
      },
      "text/html": [
       "<p>Failed to display Jupyter Widget of type <code>interactive</code>.</p>\n",
       "<p>\n",
       "  If you're reading this message in the Jupyter Notebook or JupyterLab Notebook, it may mean\n",
       "  that the widgets JavaScript is still loading. If this message persists, it\n",
       "  likely means that the widgets JavaScript library is either not installed or\n",
       "  not enabled. See the <a href=\"https://ipywidgets.readthedocs.io/en/stable/user_install.html\">Jupyter\n",
       "  Widgets Documentation</a> for setup instructions.\n",
       "</p>\n",
       "<p>\n",
       "  If you're reading this message in another frontend (for example, a static\n",
       "  rendering on GitHub or <a href=\"https://nbviewer.jupyter.org/\">NBViewer</a>),\n",
       "  it may mean that your frontend doesn't currently support widgets.\n",
       "</p>\n"
      ],
      "text/plain": [
       "interactive(children=(RadioButtons(description='Choose Model', layout=Layout(width='250px'), options=('Linear regression', 'LASSO with CV', 'Ridge with CV'), style=DescriptionStyle(description_width='initial'), value='Linear regression'), Dropdown(description='Test set size ($X_{test}$)', options={'10% of data': 0.1, '20% of data': 0.2, '30% of data': 0.3, '40% of data': 0.4, '50% of data': 0.5}, style=DescriptionStyle(description_width='initial'), value=0.1), IntSlider(value=1, continuous_update=False, description='Polynomial($\\\\sum\\\\limits_{i=1}^n a_nx^n$)', max=10, min=1, style=SliderStyle(description_width='initial')), Output(layout=Layout(height='450px'))), _dom_classes=('widget-interact',))"
      ]
     },
     "metadata": {},
     "output_type": "display_data"
    }
   ],
   "source": [
    "style = {'description_width': 'initial'}\n",
    "# Continuous_update = False for IntSlider control to stop continuous model evaluation while the slider is being dragged\n",
    "m = interactive(func_fit,model_type=widgets.RadioButtons(options=['Linear regression','LASSO with CV', 'Ridge with CV'],\n",
    "                                                    description = \"Choose Model\",style=style,\n",
    "                                                        layout=Layout(width='250px')),\n",
    "                test_size=widgets.Dropdown(options={\"10% of data\":0.1,\"20% of data\":0.2, \"30% of data\":0.3,\n",
    "                                                    \"40% of data\":0.4,\"50% of data\":0.5},\n",
    "                                          description=\"Test set size ($X_{test}$)\",style=style),\n",
    "               degree=widgets.IntSlider(min=1,max=10,step=1,description= 'Polynomial($\\sum\\limits_{i=1}^n a_nx^n$)',\n",
    "                                       style=style,continuous_update=False))\n",
    "\n",
    "# Set the height of the control.children[-1] so that the output does not jump and flicker\n",
    "output = m.children[-1]\n",
    "output.layout.height = '450px'\n",
    "\n",
    "# Display the control\n",
    "display(m)"
   ]
  }
 ],
 "metadata": {
  "kernelspec": {
   "display_name": "Python 3",
   "language": "python",
   "name": "python3"
  },
  "language_info": {
   "codemirror_mode": {
    "name": "ipython",
    "version": 3
   },
   "file_extension": ".py",
   "mimetype": "text/x-python",
   "name": "python",
   "nbconvert_exporter": "python",
   "pygments_lexer": "ipython3",
   "version": "3.6.3"
  },
  "widgets": {
   "application/vnd.jupyter.widget-state+json": {
    "state": {
     "07410a7e4d3144c4adaa0355e2181091": {
      "model_module": "@jupyter-widgets/controls",
      "model_module_version": "1.1.0",
      "model_name": "SliderStyleModel",
      "state": {
       "description_width": ""
      }
     },
     "0dd7f621c56245c1bba9d145c42af806": {
      "model_module": "@jupyter-widgets/controls",
      "model_module_version": "1.1.0",
      "model_name": "DropdownModel",
      "state": {
       "_options_labels": [
        "10% of data",
        "20% of data",
        "30% of data",
        "40% of data",
        "50% of data"
       ],
       "description": "Test set size ($X_{test}$)",
       "index": 0,
       "layout": "IPY_MODEL_e1a9cda4c8814d128e190c8e57c50d67",
       "style": "IPY_MODEL_4052006682104aef86b02f2f832096f8"
      }
     },
     "172c5725fd00462a94e290bde3ea8908": {
      "model_module": "@jupyter-widgets/controls",
      "model_module_version": "1.1.0",
      "model_name": "IntSliderModel",
      "state": {
       "description": "noise_magnitude",
       "layout": "IPY_MODEL_be07b074910840fd9b5433bdcdd388dc",
       "max": 5,
       "style": "IPY_MODEL_6f7b31f7f1e04e04b4b57a7195e24295",
       "value": 2
      }
     },
     "200840d1f3b04bfba83e7d44488f3e90": {
      "model_module": "@jupyter-widgets/base",
      "model_module_version": "1.0.0",
      "model_name": "LayoutModel",
      "state": {}
     },
     "210e43abb3be4ef595230a9346f6b862": {
      "model_module": "@jupyter-widgets/base",
      "model_module_version": "1.0.0",
      "model_name": "LayoutModel",
      "state": {}
     },
     "23678e014ab3492b8c44d68fc15db5cd": {
      "model_module": "@jupyter-widgets/base",
      "model_module_version": "1.0.0",
      "model_name": "LayoutModel",
      "state": {}
     },
     "267af5991cd546fd9acf27f5bca0afad": {
      "model_module": "@jupyter-widgets/base",
      "model_module_version": "1.0.0",
      "model_name": "LayoutModel",
      "state": {}
     },
     "2cc8ae6346ba486397a3706577e7f8a0": {
      "model_module": "@jupyter-widgets/base",
      "model_module_version": "1.0.0",
      "model_name": "LayoutModel",
      "state": {
       "width": "250px"
      }
     },
     "34dc306fe08b422ab81107c5d438837c": {
      "model_module": "@jupyter-widgets/output",
      "model_module_version": "1.0.0",
      "model_name": "OutputModel",
      "state": {
       "layout": "IPY_MODEL_267af5991cd546fd9acf27f5bca0afad",
       "outputs": [
        {
         "data": {
          "image/png": "iVBORw0KGgoAAAANSUhEUgAAAewAAAEyCAYAAAA4HuM/AAAABHNCSVQICAgIfAhkiAAAAAlwSFlz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\nAAAAAElFTkSuQmCC\n",
          "text/plain": "<matplotlib.figure.Figure at 0x193ce795400>"
         },
         "metadata": {},
         "output_type": "display_data"
        }
       ]
      }
     },
     "4052006682104aef86b02f2f832096f8": {
      "model_module": "@jupyter-widgets/controls",
      "model_module_version": "1.1.0",
      "model_name": "DescriptionStyleModel",
      "state": {
       "description_width": "initial"
      }
     },
     "4842db3e20b946be98583c6eea3aab27": {
      "model_module": "@jupyter-widgets/controls",
      "model_module_version": "1.1.0",
      "model_name": "SliderStyleModel",
      "state": {
       "description_width": ""
      }
     },
     "49d163bdd9e24df3a5fde0de5763cae8": {
      "model_module": "@jupyter-widgets/controls",
      "model_module_version": "1.1.0",
      "model_name": "SliderStyleModel",
      "state": {
       "description_width": "initial"
      }
     },
     "4e89b4784702492691fbed6d0dc54e29": {
      "model_module": "@jupyter-widgets/controls",
      "model_module_version": "1.1.0",
      "model_name": "FloatSliderModel",
      "state": {
       "description": "noise_sd",
       "layout": "IPY_MODEL_74aa8528f6eb4752bff4267d6d646f22",
       "max": 1,
       "min": 0.1,
       "step": 0.1,
       "style": "IPY_MODEL_07410a7e4d3144c4adaa0355e2181091",
       "value": 0.3
      }
     },
     "564c2846de4e4cb1bbbd42ce2e01ba5f": {
      "model_module": "@jupyter-widgets/output",
      "model_module_version": "1.0.0",
      "model_name": "OutputModel",
      "state": {
       "layout": "IPY_MODEL_f0c328381a50430d930dda1646412e9f",
       "outputs": [
        {
         "data": {
          "image/png": "iVBORw0KGgoAAAANSUhEUgAAA0wAAAGZCAYAAAC68bECAAAABHNCSVQICAgIfAhkiAAAAAlwSFlz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\nYII=\n",
          "text/plain": "<matplotlib.figure.Figure at 0x193ce456b00>"
         },
         "metadata": {},
         "output_type": "display_data"
        }
       ]
      }
     },
     "687e53d2448745ab81ed558a3509403b": {
      "model_module": "@jupyter-widgets/controls",
      "model_module_version": "1.1.0",
      "model_name": "IntSliderModel",
      "state": {
       "description": "x_min",
       "layout": "IPY_MODEL_210e43abb3be4ef595230a9346f6b862",
       "max": 0,
       "min": -5,
       "style": "IPY_MODEL_aee06555876b4d89bcd010632eccbf91",
       "value": -3
      }
     },
     "6f7b31f7f1e04e04b4b57a7195e24295": {
      "model_module": "@jupyter-widgets/controls",
      "model_module_version": "1.1.0",
      "model_name": "SliderStyleModel",
      "state": {
       "description_width": ""
      }
     },
     "74aa8528f6eb4752bff4267d6d646f22": {
      "model_module": "@jupyter-widgets/base",
      "model_module_version": "1.0.0",
      "model_name": "LayoutModel",
      "state": {}
     },
     "76cb218d6ac14a31a8e9d5bb13f616b6": {
      "model_module": "@jupyter-widgets/base",
      "model_module_version": "1.0.0",
      "model_name": "LayoutModel",
      "state": {}
     },
     "7a1b4ca9e1dd43c4a1749ec7238b5225": {
      "model_module": "@jupyter-widgets/base",
      "model_module_version": "1.0.0",
      "model_name": "LayoutModel",
      "state": {}
     },
     "7dd006228d724c6c87db1ef7f942d001": {
      "model_module": "@jupyter-widgets/controls",
      "model_module_version": "1.1.0",
      "model_name": "DropdownModel",
      "state": {
       "_options_labels": [
        "Low (50 samples)",
        "High (200 samples)"
       ],
       "description": "N_samples",
       "index": 1,
       "layout": "IPY_MODEL_23678e014ab3492b8c44d68fc15db5cd",
       "style": "IPY_MODEL_ec831ef851064c76bb481a1faad29728"
      }
     },
     "845acc20760a4ebc94917f253bc0af4e": {
      "model_module": "@jupyter-widgets/controls",
      "model_module_version": "1.1.0",
      "model_name": "FloatSliderModel",
      "state": {
       "description": "noise_mean",
       "layout": "IPY_MODEL_76cb218d6ac14a31a8e9d5bb13f616b6",
       "max": 2,
       "min": -2,
       "step": 0.5,
       "style": "IPY_MODEL_4842db3e20b946be98583c6eea3aab27",
       "value": 0.5
      }
     },
     "85f700e688d94c88b342022de1926b0a": {
      "model_module": "@jupyter-widgets/base",
      "model_module_version": "1.0.0",
      "model_name": "LayoutModel",
      "state": {}
     },
     "8980dd2a0b0846dca435d9db19347267": {
      "model_module": "@jupyter-widgets/controls",
      "model_module_version": "1.1.0",
      "model_name": "RadioButtonsModel",
      "state": {
       "_options_labels": [
        "Linear regression",
        "LASSO with CV",
        "Ridge with CV"
       ],
       "description": "Choose Model",
       "index": 0,
       "layout": "IPY_MODEL_2cc8ae6346ba486397a3706577e7f8a0",
       "style": "IPY_MODEL_cedc28141b5c41efbec677fcf731e27a"
      }
     },
     "944e0f4d6ea841f08bfafd23141aa3f5": {
      "model_module": "@jupyter-widgets/base",
      "model_module_version": "1.0.0",
      "model_name": "LayoutModel",
      "state": {}
     },
     "9f67a4871d934e0aacbe1d96cac5e1c3": {
      "model_module": "@jupyter-widgets/controls",
      "model_module_version": "1.1.0",
      "model_name": "IntSliderModel",
      "state": {
       "continuous_update": false,
       "description": "Polynomial($\\sum\\limits_{i=1}^n a_nx^n$)",
       "layout": "IPY_MODEL_944e0f4d6ea841f08bfafd23141aa3f5",
       "max": 10,
       "min": 1,
       "style": "IPY_MODEL_49d163bdd9e24df3a5fde0de5763cae8",
       "value": 1
      }
     },
     "aee06555876b4d89bcd010632eccbf91": {
      "model_module": "@jupyter-widgets/controls",
      "model_module_version": "1.1.0",
      "model_name": "SliderStyleModel",
      "state": {
       "description_width": ""
      }
     },
     "be07b074910840fd9b5433bdcdd388dc": {
      "model_module": "@jupyter-widgets/base",
      "model_module_version": "1.0.0",
      "model_name": "LayoutModel",
      "state": {}
     },
     "c37bad4cf4654fb7aa96502856c76b0f": {
      "model_module": "@jupyter-widgets/controls",
      "model_module_version": "1.1.0",
      "model_name": "IntSliderModel",
      "state": {
       "description": "x_max",
       "layout": "IPY_MODEL_200840d1f3b04bfba83e7d44488f3e90",
       "max": 5,
       "style": "IPY_MODEL_e556fa7a9d7f4b488d8f67b966acb084",
       "value": 3
      }
     },
     "cedc28141b5c41efbec677fcf731e27a": {
      "model_module": "@jupyter-widgets/controls",
      "model_module_version": "1.1.0",
      "model_name": "DescriptionStyleModel",
      "state": {
       "description_width": "initial"
      }
     },
     "cf4fede5bdbf454e913a63cbecad6719": {
      "model_module": "@jupyter-widgets/controls",
      "model_module_version": "1.1.0",
      "model_name": "VBoxModel",
      "state": {
       "_dom_classes": [
        "widget-interact"
       ],
       "children": [
        "IPY_MODEL_7dd006228d724c6c87db1ef7f942d001",
        "IPY_MODEL_687e53d2448745ab81ed558a3509403b",
        "IPY_MODEL_c37bad4cf4654fb7aa96502856c76b0f",
        "IPY_MODEL_172c5725fd00462a94e290bde3ea8908",
        "IPY_MODEL_4e89b4784702492691fbed6d0dc54e29",
        "IPY_MODEL_845acc20760a4ebc94917f253bc0af4e",
        "IPY_MODEL_34dc306fe08b422ab81107c5d438837c"
       ],
       "layout": "IPY_MODEL_85f700e688d94c88b342022de1926b0a"
      }
     },
     "d8bc69065d9540c49157cd9a3cdb8ff4": {
      "model_module": "@jupyter-widgets/controls",
      "model_module_version": "1.1.0",
      "model_name": "VBoxModel",
      "state": {
       "_dom_classes": [
        "widget-interact"
       ],
       "children": [
        "IPY_MODEL_8980dd2a0b0846dca435d9db19347267",
        "IPY_MODEL_0dd7f621c56245c1bba9d145c42af806",
        "IPY_MODEL_9f67a4871d934e0aacbe1d96cac5e1c3",
        "IPY_MODEL_564c2846de4e4cb1bbbd42ce2e01ba5f"
       ],
       "layout": "IPY_MODEL_7a1b4ca9e1dd43c4a1749ec7238b5225"
      }
     },
     "e1a9cda4c8814d128e190c8e57c50d67": {
      "model_module": "@jupyter-widgets/base",
      "model_module_version": "1.0.0",
      "model_name": "LayoutModel",
      "state": {}
     },
     "e556fa7a9d7f4b488d8f67b966acb084": {
      "model_module": "@jupyter-widgets/controls",
      "model_module_version": "1.1.0",
      "model_name": "SliderStyleModel",
      "state": {
       "description_width": ""
      }
     },
     "ec831ef851064c76bb481a1faad29728": {
      "model_module": "@jupyter-widgets/controls",
      "model_module_version": "1.1.0",
      "model_name": "DescriptionStyleModel",
      "state": {
       "description_width": ""
      }
     },
     "f0c328381a50430d930dda1646412e9f": {
      "model_module": "@jupyter-widgets/base",
      "model_module_version": "1.0.0",
      "model_name": "LayoutModel",
      "state": {
       "height": "450px"
      }
     }
    },
    "version_major": 2,
    "version_minor": 0
   }
  }
 },
 "nbformat": 4,
 "nbformat_minor": 2
}
